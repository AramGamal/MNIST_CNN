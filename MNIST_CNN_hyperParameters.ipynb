{
  "cells": [
    {
      "cell_type": "markdown",
      "metadata": {
        "id": "HB8sgnIG4qnb"
      },
      "source": [
        "**imports**"
      ]
    },
    {
      "cell_type": "code",
      "execution_count": null,
      "metadata": {
        "id": "P4ed-nF3KBpM"
      },
      "outputs": [],
      "source": [
        "import tensorflow as tf\n",
        "import tensorflow_datasets as tfds\n",
        "from tensorflow import keras\n",
        "from keras.datasets import mnist\n",
        "from tensorflow.keras.models import Sequential\n",
        "from tensorflow.keras.layers import Conv2D, MaxPooling2D, Dense, Flatten\n",
        "from tensorflow.keras.utils import to_categorical\n",
        "from tensorflow.keras import datasets, layers, models\n"
      ]
    },
    {
      "cell_type": "markdown",
      "metadata": {
        "id": "nITlC4b64uKq"
      },
      "source": [
        "Loading dataset\n",
        ",adjusting the dimensions"
      ]
    },
    {
      "cell_type": "code",
      "execution_count": null,
      "metadata": {
        "colab": {
          "base_uri": "https://localhost:8080/"
        },
        "id": "W0dHNboZKpk8",
        "outputId": "bb667e97-0af5-42f8-c801-437100a18a3c"
      },
      "outputs": [
        {
          "name": "stdout",
          "output_type": "stream",
          "text": [
            "Downloading data from https://storage.googleapis.com/tensorflow/tf-keras-datasets/mnist.npz\n",
            "11493376/11490434 [==============================] - 0s 0us/step\n",
            "11501568/11490434 [==============================] - 0s 0us/step\n"
          ]
        },
        {
          "data": {
            "text/plain": [
              "(60000, 10)"
            ]
          },
          "execution_count": 3,
          "metadata": {},
          "output_type": "execute_result"
        }
      ],
      "source": [
        "(x_train, y_train), (x_test, y_test) = keras.datasets.mnist.load_data()\n",
        "\n",
        "# one hot encode target values\n",
        "\n",
        "y_train = keras.utils.to_categorical(y_train)\n",
        "y_test = keras.utils.to_categorical(y_test)\n",
        "\n",
        "x_train = x_train.reshape((x_train.shape + (1,)))\n",
        "x_test = x_test.reshape((x_test.shape + (1,)))\n",
        "y_train.shape\n"
      ]
    },
    {
      "cell_type": "markdown",
      "metadata": {
        "id": "xv6kc_oX49wK"
      },
      "source": [
        "Buildidng the initial model, and creating the CNN layers \n",
        "\n",
        "\n",
        "\n"
      ]
    },
    {
      "cell_type": "markdown",
      "metadata": {
        "id": "nD5zDAlsMTLW"
      },
      "source": [
        "# **Model 1**"
      ]
    },
    {
      "cell_type": "code",
      "execution_count": null,
      "metadata": {
        "colab": {
          "base_uri": "https://localhost:8080/"
        },
        "id": "JMqNsspALrVR",
        "outputId": "40866dac-5cb5-4bbf-8b84-f8c699ff6084"
      },
      "outputs": [
        {
          "name": "stdout",
          "output_type": "stream",
          "text": [
            "Model: \"sequential\"\n",
            "_________________________________________________________________\n",
            " Layer (type)                Output Shape              Param #   \n",
            "=================================================================\n",
            " conv2d (Conv2D)             (None, 28, 28, 32)        320       \n",
            "                                                                 \n",
            " max_pooling2d (MaxPooling2D  (None, 14, 14, 32)       0         \n",
            " )                                                               \n",
            "                                                                 \n",
            " conv2d_1 (Conv2D)           (None, 14, 14, 64)        18496     \n",
            "                                                                 \n",
            " max_pooling2d_1 (MaxPooling  (None, 7, 7, 64)         0         \n",
            " 2D)                                                             \n",
            "                                                                 \n",
            " flatten (Flatten)           (None, 3136)              0         \n",
            "                                                                 \n",
            " dense (Dense)               (None, 6000)              18822000  \n",
            "                                                                 \n",
            " dense_1 (Dense)             (None, 10)                60010     \n",
            "                                                                 \n",
            "=================================================================\n",
            "Total params: 18,900,826\n",
            "Trainable params: 18,900,826\n",
            "Non-trainable params: 0\n",
            "_________________________________________________________________\n"
          ]
        }
      ],
      "source": [
        "model=Sequential()\n",
        "\n",
        "model.add(Conv2D(32, (3, 3), padding=\"same\", activation=\"relu\",input_shape=(28,28,1)))\n",
        "model.add(MaxPooling2D(pool_size=(2, 2), strides=(2, 2)))\n",
        "model.add(Conv2D(64, (3, 3), padding=\"same\", activation=\"relu\"))\n",
        "model.add(MaxPooling2D(pool_size=(2, 2), strides=(2, 2)))\n",
        "model.add(Flatten())\n",
        "model.add(Dense(6000, activation=\"relu\"))\n",
        "model.add(Dense(10,activation=\"softmax\"))\n",
        "\n",
        "#to show the network architecture\n",
        "model.summary()"
      ]
    },
    {
      "cell_type": "markdown",
      "metadata": {
        "id": "QjS2qcOm5Qaq"
      },
      "source": [
        "compliling the model and adding the optimizer, loss"
      ]
    },
    {
      "cell_type": "code",
      "execution_count": null,
      "metadata": {
        "id": "EBMrIr53YQcw"
      },
      "outputs": [],
      "source": [
        "model.compile(optimizer=tf.keras.optimizers.SGD(learning_rate=0.0001),loss='categorical_crossentropy',metrics=['accuracy'])"
      ]
    },
    {
      "cell_type": "markdown",
      "metadata": {
        "id": "C6FUAwNj6Ki3"
      },
      "source": [
        "testing 12 epochs\n"
      ]
    },
    {
      "cell_type": "code",
      "execution_count": null,
      "metadata": {
        "colab": {
          "background_save": true,
          "base_uri": "https://localhost:8080/"
        },
        "id": "32BIqRKLdHcw",
        "outputId": "65b208fb-fd66-4250-d404-e6424a090cd5"
      },
      "outputs": [
        {
          "name": "stdout",
          "output_type": "stream",
          "text": [
            "Epoch 1/12\n",
            "938/938 [==============================] - 244s 259ms/step - loss: 0.6157 - accuracy: 0.8860\n",
            "Epoch 2/12\n",
            "938/938 [==============================] - 243s 259ms/step - loss: 0.1915 - accuracy: 0.9496\n",
            "Epoch 3/12\n",
            "938/938 [==============================] - 239s 255ms/step - loss: 0.1370 - accuracy: 0.9620\n",
            "Epoch 4/12\n",
            "938/938 [==============================] - 238s 254ms/step - loss: 0.1075 - accuracy: 0.9696\n",
            "Epoch 5/12\n",
            "938/938 [==============================] - 238s 253ms/step - loss: 0.0903 - accuracy: 0.9743\n",
            "Epoch 6/12\n",
            "938/938 [==============================] - 238s 254ms/step - loss: 0.0775 - accuracy: 0.9766\n",
            "Epoch 7/12\n",
            "938/938 [==============================] - 238s 254ms/step - loss: 0.0672 - accuracy: 0.9801\n",
            "Epoch 8/12\n",
            "938/938 [==============================] - 237s 253ms/step - loss: 0.0596 - accuracy: 0.9816\n",
            "Epoch 9/12\n",
            "938/938 [==============================] - 237s 253ms/step - loss: 0.0535 - accuracy: 0.9839\n",
            "Epoch 10/12\n",
            "938/938 [==============================] - 238s 253ms/step - loss: 0.0489 - accuracy: 0.9854\n",
            "Epoch 11/12\n",
            "938/938 [==============================] - 237s 253ms/step - loss: 0.0441 - accuracy: 0.9871\n",
            "Epoch 12/12\n",
            "938/938 [==============================] - 237s 253ms/step - loss: 0.0403 - accuracy: 0.9879\n"
          ]
        },
        {
          "data": {
            "text/plain": [
              "<keras.callbacks.History at 0x7fe2085b50d0>"
            ]
          },
          "execution_count": null,
          "metadata": {},
          "output_type": "execute_result"
        }
      ],
      "source": [
        "model.fit(x_train,y_train,batch_size=64,epochs= 12,shuffle = True)"
      ]
    },
    {
      "cell_type": "markdown",
      "metadata": {
        "id": "cnHJ4EGI6OQf"
      },
      "source": [
        "# **Model 2**\n",
        "\n",
        "\n",
        "\n"
      ]
    },
    {
      "cell_type": "code",
      "execution_count": null,
      "metadata": {
        "colab": {
          "background_save": true
        },
        "id": "XcUpEZvZ7sRn",
        "outputId": "66a88dd8-57aa-49af-fd03-959a28d40f4a"
      },
      "outputs": [
        {
          "name": "stdout",
          "output_type": "stream",
          "text": [
            "Model: \"sequential_1\"\n",
            "_________________________________________________________________\n",
            " Layer (type)                Output Shape              Param #   \n",
            "=================================================================\n",
            " conv2d_2 (Conv2D)           (None, 28, 28, 32)        320       \n",
            "                                                                 \n",
            " max_pooling2d_2 (MaxPooling  (None, 14, 14, 32)       0         \n",
            " 2D)                                                             \n",
            "                                                                 \n",
            " conv2d_3 (Conv2D)           (None, 14, 14, 64)        18496     \n",
            "                                                                 \n",
            " max_pooling2d_3 (MaxPooling  (None, 7, 7, 64)         0         \n",
            " 2D)                                                             \n",
            "                                                                 \n",
            " flatten_1 (Flatten)         (None, 3136)              0         \n",
            "                                                                 \n",
            " dense_2 (Dense)             (None, 6000)              18822000  \n",
            "                                                                 \n",
            " dense_3 (Dense)             (None, 10)                60010     \n",
            "                                                                 \n",
            "=================================================================\n",
            "Total params: 18,900,826\n",
            "Trainable params: 18,900,826\n",
            "Non-trainable params: 0\n",
            "_________________________________________________________________\n"
          ]
        }
      ],
      "source": [
        "model_2=Sequential()\n",
        "\n",
        "model_2.add(Conv2D(32, (3, 3), padding=\"same\", activation=\"relu\",input_shape=(28,28,1)))\n",
        "model_2.add(MaxPooling2D(pool_size=(2, 2), strides=(2, 2)))\n",
        "model_2.add(Conv2D(64, (3, 3), padding=\"same\", activation=\"relu\"))\n",
        "model_2.add(MaxPooling2D(pool_size=(2, 2), strides=(2, 2)))\n",
        "model_2.add(Flatten())\n",
        "model_2.add(Dense(6000, activation=\"relu\"))\n",
        "model_2.add(Dense(10,activation=\"softmax\"))\n",
        "\n",
        "#to show the network architecture\n",
        "model_2.summary()"
      ]
    },
    {
      "cell_type": "code",
      "execution_count": null,
      "metadata": {
        "colab": {
          "background_save": true
        },
        "id": "_BsRQEQt7x4o"
      },
      "outputs": [],
      "source": [
        "model_2.compile(optimizer=tf.keras.optimizers.SGD(learning_rate=0.0001),loss='categorical_crossentropy',metrics=['accuracy'])"
      ]
    },
    {
      "cell_type": "markdown",
      "metadata": {
        "id": "BGWnWhBz8div"
      },
      "source": [
        "testing 13 epochs"
      ]
    },
    {
      "cell_type": "code",
      "execution_count": null,
      "metadata": {
        "id": "RvRioSL_4eoR"
      },
      "outputs": [],
      "source": [
        "model_2.fit(x_train,y_train,batch_size=64,epochs= 13, shuffle = True)"
      ]
    },
    {
      "cell_type": "markdown",
      "metadata": {
        "id": "MkmOQZQa6RXP"
      },
      "source": [
        "# **Model 3** "
      ]
    },
    {
      "cell_type": "code",
      "execution_count": null,
      "metadata": {
        "id": "pCqQp3wu8v8Z"
      },
      "outputs": [],
      "source": [
        "model_3=Sequential()\n",
        "\n",
        "model_3.add(Conv2D(32, (3, 3), padding=\"same\", activation=\"relu\",input_shape=(28,28,1)))\n",
        "model_3.add(MaxPooling2D(pool_size=(2, 2), strides=(2, 2)))\n",
        "model_3.add(Conv2D(64, (3, 3), padding=\"same\", activation=\"relu\"))\n",
        "model_3.add(MaxPooling2D(pool_size=(2, 2), strides=(2, 2)))\n",
        "model_3.add(Flatten())\n",
        "model_3.add(Dense(6000, activation=\"relu\"))\n",
        "model_3.add(Dense(10,activation=\"softmax\"))\n",
        "\n",
        "#to show the network architecture\n",
        "model_3.summary()"
      ]
    },
    {
      "cell_type": "code",
      "execution_count": null,
      "metadata": {
        "id": "KITqXM5X9DgH"
      },
      "outputs": [],
      "source": [
        "model_3.compile(optimizer=tf.keras.optimizers.SGD(learning_rate=0.0001),loss='categorical_crossentropy',metrics=['accuracy'])"
      ]
    },
    {
      "cell_type": "markdown",
      "metadata": {
        "id": "Rw2FzTea9QwB"
      },
      "source": [
        "testing 15 epochs"
      ]
    },
    {
      "cell_type": "code",
      "execution_count": null,
      "metadata": {
        "id": "MKPfWLvD5dBA"
      },
      "outputs": [],
      "source": [
        "model_3.fit(x_train,y_train,batch_size=64,epochs= 15, shuffle = True)"
      ]
    },
    {
      "cell_type": "markdown",
      "metadata": {
        "id": "Zdix6C7D6pMv"
      },
      "source": [
        "**so we will be sticking with number of epochs = 12, as there is no big difference in accuracy just more time**"
      ]
    },
    {
      "cell_type": "markdown",
      "metadata": {
        "id": "1QBUqQemyLvF"
      },
      "source": [
        "# **Model 4**\n",
        "  Trying different learning rate of first(0.0005)"
      ]
    },
    {
      "cell_type": "code",
      "execution_count": null,
      "metadata": {
        "id": "Sj1uE_9R-J1w"
      },
      "outputs": [],
      "source": [
        "model_4=Sequential()\n",
        "\n",
        "model_4.add(Conv2D(32, (3, 3), padding=\"same\", activation=\"relu\",input_shape=(28,28,1)))\n",
        "model_4.add(MaxPooling2D(pool_size=(2, 2), strides=(2, 2)))\n",
        "model_4.add(Conv2D(64, (3, 3), padding=\"same\", activation=\"relu\"))\n",
        "model_4.add(MaxPooling2D(pool_size=(2, 2), strides=(2, 2)))\n",
        "model_4.add(Flatten())\n",
        "model_4.add(Dense(6000, activation=\"relu\"))\n",
        "model_4.add(Dense(10,activation=\"softmax\"))\n",
        "\n",
        "#to show the network architecture\n",
        "model_4.summary()"
      ]
    },
    {
      "cell_type": "code",
      "execution_count": null,
      "metadata": {
        "id": "VsIdAPZXyEKY"
      },
      "outputs": [],
      "source": [
        "model_4.compile(optimizer=tf.keras.optimizers.SGD(learning_rate=0.0005),loss='categorical_crossentropy',metrics=['accuracy'])"
      ]
    },
    {
      "cell_type": "code",
      "execution_count": null,
      "metadata": {
        "id": "gFBiqevMygXd"
      },
      "outputs": [],
      "source": [
        "model_4.fit(x_train,y_train,batch_size=64,epochs= 12, shuffle = True)"
      ]
    },
    {
      "cell_type": "markdown",
      "metadata": {
        "id": "2bLPhZney2qI"
      },
      "source": [
        "# **Model 5**\n",
        "Trying different learning rate (0.001)"
      ]
    },
    {
      "cell_type": "code",
      "execution_count": null,
      "metadata": {
        "id": "xnAA_C2gy0hl"
      },
      "outputs": [],
      "source": [
        "model_5=Sequential()\n",
        "\n",
        "model_5.add(Conv2D(32, (3, 3), padding=\"same\", activation=\"relu\",input_shape=(28,28,1)))\n",
        "model_5.add(MaxPooling2D(pool_size=(2, 2), strides=(2, 2)))\n",
        "model_5.add(Conv2D(64, (3, 3), padding=\"same\", activation=\"relu\"))\n",
        "model_5.add(MaxPooling2D(pool_size=(2, 2), strides=(2, 2)))\n",
        "model_5.add(Flatten())\n",
        "model_5.add(Dense(6000, activation=\"relu\"))\n",
        "model_5.add(Dense(10,activation=\"softmax\"))\n",
        "\n",
        "#to show the network architecture\n",
        "model_5.summary()"
      ]
    },
    {
      "cell_type": "code",
      "execution_count": null,
      "metadata": {
        "id": "ZikLA4kMzaHW"
      },
      "outputs": [],
      "source": [
        "model_5.compile(optimizer=tf.keras.optimizers.SGD(learning_rate=0.001),loss='categorical_crossentropy',metrics=['accuracy'])"
      ]
    },
    {
      "cell_type": "code",
      "execution_count": null,
      "metadata": {
        "id": "aVOlvmJAzkxV"
      },
      "outputs": [],
      "source": [
        "model_5.fit(x_train,y_train,batch_size=64,epochs= 12, shuffle = True)"
      ]
    },
    {
      "cell_type": "markdown",
      "metadata": {
        "id": "BDv_NDLpzw_P"
      },
      "source": [
        "# **Model 6**\n",
        "Trying different learning rate (0.01)"
      ]
    },
    {
      "cell_type": "code",
      "execution_count": null,
      "metadata": {
        "id": "GPv24LcUz5x2"
      },
      "outputs": [],
      "source": [
        "model_6=Sequential()\n",
        "\n",
        "model_6.add(Conv2D(32, (3, 3), padding=\"same\", activation=\"relu\",input_shape=(28,28,1)))\n",
        "model_6.add(MaxPooling2D(pool_size=(2, 2), strides=(2, 2)))\n",
        "model_6.add(Conv2D(64, (3, 3), padding=\"same\", activation=\"relu\"))\n",
        "model_6.add(MaxPooling2D(pool_size=(2, 2), strides=(2, 2)))\n",
        "model_6.add(Flatten())\n",
        "model_6.add(Dense(6000, activation=\"relu\"))\n",
        "model_6.add(Dense(10,activation=\"softmax\"))\n",
        "\n",
        "#to show the network architecture\n",
        "model_6.summary()"
      ]
    },
    {
      "cell_type": "code",
      "execution_count": null,
      "metadata": {
        "id": "c4O_sCp60CV2"
      },
      "outputs": [],
      "source": [
        "model_6.compile(optimizer=tf.keras.optimizers.SGD(learning_rate=0.01, momentum=0.5),loss='categorical_crossentropy',metrics=['accuracy'])"
      ]
    },
    {
      "cell_type": "code",
      "execution_count": null,
      "metadata": {
        "id": "3gOJTDUH0FWO"
      },
      "outputs": [],
      "source": [
        "model_6.fit(x_train,y_train,batch_size=64,epochs= 12, shuffle = True)"
      ]
    },
    {
      "cell_type": "markdown",
      "metadata": {
        "id": "_Nm9NbUM1Msl"
      },
      "source": [
        "with this learning rate (0.01) the model is stuck in the RELu saturation spot so the accuracy and the loss are fixed"
      ]
    },
    {
      "cell_type": "markdown",
      "metadata": {
        "id": "kWgPYQRS1iN1"
      },
      "source": [
        "so we will stick with the learning rate **(0.001)** \n",
        "\n",
        "**as it gives more accuracy with less time in the first epoch**  "
      ]
    },
    {
      "cell_type": "markdown",
      "metadata": {
        "id": "e4tCkJtF2MfF"
      },
      "source": [
        "# **Model 7**\n",
        "Changing the layers of the model"
      ]
    },
    {
      "cell_type": "markdown",
      "metadata": {
        "id": "odYh0D0z2zo9"
      },
      "source": [
        "**dropping one conv. layer and one maxpool layer**"
      ]
    },
    {
      "cell_type": "code",
      "execution_count": null,
      "metadata": {
        "id": "UZDo7UW52k38"
      },
      "outputs": [],
      "source": [
        "model_7=Sequential()\n",
        "\n",
        "model_7.add(Conv2D(32, (3, 3), padding=\"same\", activation=\"relu\",input_shape=(28,28,1)))\n",
        "model_7.add(MaxPooling2D(pool_size=(2, 2), strides=(2, 2)))\n",
        "\n",
        "model_7.add(Flatten())\n",
        "model_7.add(Dense(6000, activation=\"relu\"))\n",
        "model_7.add(Dense(10,activation=\"softmax\"))\n",
        "\n",
        "#to show the network architecture\n",
        "model_7.summary()"
      ]
    },
    {
      "cell_type": "code",
      "execution_count": null,
      "metadata": {
        "id": "gXAuD4BJ3ChV"
      },
      "outputs": [],
      "source": [
        "model_7.compile(optimizer=tf.keras.optimizers.SGD(learning_rate=0.001),loss='categorical_crossentropy',metrics=['accuracy'])"
      ]
    },
    {
      "cell_type": "code",
      "execution_count": null,
      "metadata": {
        "id": "Exc7mwWi3NLe"
      },
      "outputs": [],
      "source": [
        "model_7.fit(x_train,y_train,batch_size=64,epochs= 12, shuffle = True)"
      ]
    },
    {
      "cell_type": "markdown",
      "metadata": {
        "id": "_kGwoFBz4s_d"
      },
      "source": [
        "as it seems in the above model it takes more time due to increasing the number of parameters by taking out covolution layer and maxpool layer, but it gives more accuracy approximately 100% and this is a sign of over fitting so that's a bad model.\n"
      ]
    },
    {
      "cell_type": "markdown",
      "metadata": {
        "id": "i1IflbGU52be"
      },
      "source": [
        "# **Model 8**\n",
        "Adding 1 conv layer and 1 max pool layer"
      ]
    },
    {
      "cell_type": "code",
      "execution_count": null,
      "metadata": {
        "id": "gQeGJnp95ApE"
      },
      "outputs": [],
      "source": [
        "model_8=Sequential()\n",
        "\n",
        "model_8.add(Conv2D(32, (3, 3), padding=\"same\", activation=\"relu\",input_shape=(28,28,1)))\n",
        "model_8.add(MaxPooling2D(pool_size=(2, 2), strides=(2, 2)))\n",
        "model_8.add(Conv2D(64, (3, 3), padding=\"same\", activation=\"relu\"))\n",
        "model_8.add(MaxPooling2D(pool_size=(2, 2), strides=(2, 2)))\n",
        "model_8.add(Conv2D(32, (3, 3), padding=\"same\", activation=\"relu\"))\n",
        "model_8.add(MaxPooling2D(pool_size=(2, 2), strides=(2, 2)))\n",
        "model_8.add(Flatten())\n",
        "model_8.add(Dense(6000, activation=\"relu\"))\n",
        "model_8.add(Dense(10,activation=\"softmax\"))\n",
        "\n",
        "#to show the network architecture\n",
        "model_8.summary()"
      ]
    },
    {
      "cell_type": "code",
      "execution_count": null,
      "metadata": {
        "id": "xVC3z_ca6aA-"
      },
      "outputs": [],
      "source": [
        "model_8.compile(optimizer=tf.keras.optimizers.SGD(learning_rate=0.001),loss='categorical_crossentropy',metrics=['accuracy'])"
      ]
    },
    {
      "cell_type": "code",
      "execution_count": null,
      "metadata": {
        "id": "ZJqpuUE_6cGF"
      },
      "outputs": [],
      "source": [
        "model_8.fit(x_train,y_train,batch_size=64,epochs= 12, shuffle = True)"
      ]
    },
    {
      "cell_type": "markdown",
      "metadata": {
        "id": "daOu57GA8NqW"
      },
      "source": [
        "So ,in the above model it appears that we excluded about 16 millions parameters by adding 1 conv layer and 1 maxpool layer giving approximately the same performance ."
      ]
    },
    {
      "cell_type": "markdown",
      "metadata": {
        "id": "cgLfGDhpaxTK"
      },
      "source": [
        "# **Model 9**\n",
        "Adding 1 fc layer"
      ]
    },
    {
      "cell_type": "code",
      "execution_count": null,
      "metadata": {
        "id": "4hyBSHE18f3O"
      },
      "outputs": [],
      "source": [
        "model_9=Sequential()\n",
        "model_9.add(Conv2D(32, (3, 3), padding=\"same\", activation=\"relu\",input_shape=(28,28,1)))\n",
        "model_9.add(MaxPooling2D(pool_size=(2, 2), strides=(2, 2)))\n",
        "model_9.add(Conv2D(64, (3, 3), padding=\"same\", activation=\"relu\"))\n",
        "model_9.add(MaxPooling2D(pool_size=(2, 2), strides=(2, 2)))\n",
        "model_9.add(Flatten())\n",
        "model_9.add(Dense(6000, activation=\"relu\"))\n",
        "model_9.add(Dense(2000, activation=\"relu\"))\n",
        "model_9.add(Dense(10,activation=\"softmax\"))\n",
        "\n",
        "#to show the network architecture\n",
        "model_9.summary()"
      ]
    },
    {
      "cell_type": "code",
      "execution_count": null,
      "metadata": {
        "id": "n5ijQNfIbKHz"
      },
      "outputs": [],
      "source": [
        "model_9.compile(optimizer=tf.keras.optimizers.SGD(learning_rate=0.001),loss='categorical_crossentropy',metrics=['accuracy'])"
      ]
    },
    {
      "cell_type": "code",
      "execution_count": null,
      "metadata": {
        "id": "T6CwVqwFbPxz"
      },
      "outputs": [],
      "source": [
        "model_9.fit(x_train,y_train,batch_size=64,epochs= 12, shuffle = True)"
      ]
    },
    {
      "cell_type": "markdown",
      "metadata": {
        "id": "J3AqzQ9Db6lL"
      },
      "source": [
        "there is kind of overfitting in the above model along side with the huge number of parameters and huge computational power"
      ]
    },
    {
      "cell_type": "markdown",
      "metadata": {
        "id": "iRidzgu3cLh7"
      },
      "source": [
        "# **Model 10**\n",
        "Model with only 1 fc layers but decrease the amount of neurons in the layer to 1000"
      ]
    },
    {
      "cell_type": "code",
      "execution_count": null,
      "metadata": {
        "id": "H58h9utdckr7"
      },
      "outputs": [],
      "source": [
        "model_10=Sequential()\n",
        "\n",
        "model_10.add(Conv2D(32, (3, 3), padding=\"same\", activation=\"relu\",input_shape=(28,28,1)))\n",
        "model_10.add(MaxPooling2D(pool_size=(2, 2), strides=(2, 2)))\n",
        "model_10.add(Conv2D(64, (3, 3), padding=\"same\", activation=\"relu\"))\n",
        "model_10.add(MaxPooling2D(pool_size=(2, 2), strides=(2, 2)))\n",
        "model_10.add(Flatten())\n",
        "model_10.add(Dense(1000, activation=\"relu\"))\n",
        "model_10.add(Dense(10,activation=\"softmax\"))\n",
        "\n",
        "#to show the network architecture\n",
        "model_10.summary()"
      ]
    },
    {
      "cell_type": "code",
      "execution_count": null,
      "metadata": {
        "id": "lo9ueABVc3iF"
      },
      "outputs": [],
      "source": [
        "model_10.compile(optimizer=tf.keras.optimizers.SGD(learning_rate=0.001),loss='categorical_crossentropy',metrics=['accuracy'])"
      ]
    },
    {
      "cell_type": "code",
      "execution_count": null,
      "metadata": {
        "id": "zM1GUkd2c4dj"
      },
      "outputs": [],
      "source": [
        "model_10.fit(x_train,y_train,batch_size=64,epochs= 12, shuffle = True)"
      ]
    },
    {
      "cell_type": "markdown",
      "metadata": {
        "id": "ilKFRTStez9D"
      },
      "source": [
        "in the above model we got very low loss and decent accuracy but with excluding 15 millions parameter making our model much faster with no drop in performance"
      ]
    },
    {
      "cell_type": "markdown",
      "metadata": {
        "id": "kf2r2s5UfRh7"
      },
      "source": [
        "# **Model 11**\n",
        "Testing different batch size (2*batch size)"
      ]
    },
    {
      "cell_type": "code",
      "execution_count": null,
      "metadata": {
        "id": "76QGwkMZfEfL"
      },
      "outputs": [],
      "source": [
        "model_11=Sequential()\n",
        "\n",
        "model_11.add(Conv2D(32, (3, 3), padding=\"same\", activation=\"relu\",input_shape=(28,28,1)))\n",
        "model_11.add(MaxPooling2D(pool_size=(2, 2), strides=(2, 2)))\n",
        "model_11.add(Conv2D(64, (3, 3), padding=\"same\", activation=\"relu\"))\n",
        "model_11.add(MaxPooling2D(pool_size=(2, 2), strides=(2, 2)))\n",
        "model_11.add(Flatten())\n",
        "model_11.add(Dense(1000, activation=\"relu\"))\n",
        "model_11.add(Dense(10,activation=\"softmax\"))\n",
        "\n",
        "#to show the network architecture\n",
        "model_11.summary()"
      ]
    },
    {
      "cell_type": "code",
      "execution_count": null,
      "metadata": {
        "id": "5unvMV7Dfg67"
      },
      "outputs": [],
      "source": [
        "model_11.compile(optimizer=tf.keras.optimizers.SGD(learning_rate=0.001),loss='categorical_crossentropy',metrics=['accuracy'])"
      ]
    },
    {
      "cell_type": "code",
      "execution_count": null,
      "metadata": {
        "id": "5XL2M3Jtfo-7"
      },
      "outputs": [],
      "source": [
        "model_11.fit(x_train,y_train,batch_size=128,epochs= 12, shuffle = True)"
      ]
    },
    {
      "cell_type": "markdown",
      "metadata": {
        "id": "gIu8ezQcgF7K"
      },
      "source": [
        "in the above model we increased to 128 our batch size and approximately same accuracy and loss as the 64 batch size but guranteed faster performance"
      ]
    },
    {
      "cell_type": "markdown",
      "metadata": {
        "id": "91cKyISNf4GV"
      },
      "source": [
        "# **Model 12**\n",
        "testing different batch size (4*batch size)"
      ]
    },
    {
      "cell_type": "code",
      "execution_count": null,
      "metadata": {
        "id": "kdRvcOUwf0Wj"
      },
      "outputs": [],
      "source": [
        "model_12=Sequential()\n",
        "\n",
        "model_12.add(Conv2D(32, (3, 3), padding=\"same\", activation=\"relu\",input_shape=(28,28,1)))\n",
        "model_12.add(MaxPooling2D(pool_size=(2, 2), strides=(2, 2)))\n",
        "model_12.add(Conv2D(64, (3, 3), padding=\"same\", activation=\"relu\"))\n",
        "model_12.add(MaxPooling2D(pool_size=(2, 2), strides=(2, 2)))\n",
        "model_12.add(Flatten())\n",
        "model_12.add(Dense(1000, activation=\"relu\"))\n",
        "model_12.add(Dense(10,activation=\"softmax\"))\n",
        "\n",
        "#to show the network architecture\n",
        "model_12.summary()"
      ]
    },
    {
      "cell_type": "code",
      "execution_count": null,
      "metadata": {
        "id": "UYB4EAIsgXor"
      },
      "outputs": [],
      "source": [
        "model_12.compile(optimizer=tf.keras.optimizers.SGD(learning_rate=0.001),loss='categorical_crossentropy',metrics=['accuracy'])"
      ]
    },
    {
      "cell_type": "code",
      "execution_count": null,
      "metadata": {
        "id": "o76caEW5gb7z"
      },
      "outputs": [],
      "source": [
        "model_12.fit(x_train,y_train,batch_size=265,epochs= 12, shuffle = True)"
      ]
    },
    {
      "cell_type": "markdown",
      "metadata": {
        "id": "BBhVf4lHgxus"
      },
      "source": [
        "in the above model the computations is two times faster than the previous model with less than 1% drop in accuracy \n",
        "\n",
        "this model fits better for big data "
      ]
    },
    {
      "cell_type": "markdown",
      "metadata": {
        "id": "bu26jXBjce3t"
      },
      "source": [
        "# Using Different Activation Functions"
      ]
    },
    {
      "cell_type": "markdown",
      "metadata": {
        "id": "YSMkxExKRPKu"
      },
      "source": [
        "# **Model 13**\n",
        "Here we will be using different activation functions other than Relu."
      ]
    },
    {
      "cell_type": "code",
      "execution_count": null,
      "metadata": {
        "id": "4Lc51hH5RK4f"
      },
      "outputs": [],
      "source": [
        "# Testin Relu\n",
        "model_13=Sequential()\n",
        "\n",
        "model_13.add(Conv2D(32, (3, 3), padding=\"same\", activation=\"relu\",input_shape=(28,28,1)))\n",
        "model_13.add(MaxPooling2D(pool_size=(2, 2), strides=(2, 2)))\n",
        "model_13.add(Conv2D(64, (3, 3), padding=\"same\", activation=\"relu\"))\n",
        "model_13.add(MaxPooling2D(pool_size=(2, 2), strides=(2, 2)))\n",
        "model_13.add(Flatten())\n",
        "model_13.add(Dense(1000, activation=\"relu\"))\n",
        "model_13.add(Dense(10,activation=\"softmax\"))\n",
        "\n",
        "#to show the network architecture\n",
        "model_13.summary()"
      ]
    },
    {
      "cell_type": "code",
      "execution_count": null,
      "metadata": {
        "id": "mnUbkm_uSd9H"
      },
      "outputs": [],
      "source": [
        "model_13.compile(optimizer=tf.keras.optimizers.SGD(learning_rate=0.001),loss='categorical_crossentropy',metrics=['accuracy'])"
      ]
    },
    {
      "cell_type": "code",
      "execution_count": null,
      "metadata": {
        "id": "Jsl4yOoOSusg"
      },
      "outputs": [],
      "source": [
        "model_13.fit(x_train,y_train,batch_size=265,epochs= 12, shuffle = True)"
      ]
    },
    {
      "cell_type": "markdown",
      "metadata": {
        "id": "NAXoO89KTcI7"
      },
      "source": [
        "# **Model 14**\n",
        "Testing results of segmoid activation function."
      ]
    },
    {
      "cell_type": "code",
      "execution_count": null,
      "metadata": {
        "id": "jYBj_9V_SzgC"
      },
      "outputs": [],
      "source": [
        "# Testing segmoid\n",
        "model_14=Sequential()\n",
        "\n",
        "model_14.add(Conv2D(32, (3, 3), padding=\"same\", activation=\"sigmoid\",input_shape=(28,28,1)))\n",
        "model_14.add(MaxPooling2D(pool_size=(2, 2), strides=(2, 2)))\n",
        "model_14.add(Conv2D(64, (3, 3), padding=\"same\", activation=\"sigmoid\"))\n",
        "model_14.add(MaxPooling2D(pool_size=(2, 2), strides=(2, 2)))\n",
        "model_14.add(Flatten())\n",
        "model_14.add(Dense(1000, activation=\"sigmoid\"))\n",
        "model_14.add(Dense(10,activation=\"softmax\"))\n",
        "\n",
        "#to show the network architecture\n",
        "model_14.summary()"
      ]
    },
    {
      "cell_type": "code",
      "execution_count": null,
      "metadata": {
        "id": "5LcEFkoATmGJ"
      },
      "outputs": [],
      "source": [
        "model_14.compile(optimizer=tf.keras.optimizers.SGD(learning_rate=0.001),loss='categorical_crossentropy',metrics=['accuracy'])"
      ]
    },
    {
      "cell_type": "code",
      "execution_count": null,
      "metadata": {
        "id": "ToioG8bhTtot"
      },
      "outputs": [],
      "source": [
        "model_14.fit(x_train,y_train,batch_size=265,epochs= 12, shuffle = True)"
      ]
    },
    {
      "cell_type": "markdown",
      "metadata": {
        "id": "LANu1KBCUCoC"
      },
      "source": [
        "Segmoid activation function results have less accuracy than Relu, I will test more epochs to see if it affects the accuracy."
      ]
    },
    {
      "cell_type": "code",
      "execution_count": null,
      "metadata": {
        "id": "CQpi0iV9UsKD"
      },
      "outputs": [],
      "source": [
        "model_14.fit(x_train,y_train,batch_size=265,epochs= 25, shuffle = True)"
      ]
    },
    {
      "cell_type": "markdown",
      "metadata": {
        "id": "3jx2cdTMVGhl"
      },
      "source": [
        "Segmoid reusult 0.5557 accuracy after 37 epochs of training, Reulu results 0.9821 after 12 epochs, with fixing all the other parameters. So Relu is clearly better than segmoid in terms of accuracy."
      ]
    },
    {
      "cell_type": "markdown",
      "metadata": {
        "id": "oIflkUsPWLwR"
      },
      "source": [
        "# **Model 15**\n",
        "Testing tanh activation function."
      ]
    },
    {
      "cell_type": "code",
      "execution_count": null,
      "metadata": {
        "id": "-qBkxryWUyTR"
      },
      "outputs": [],
      "source": [
        "# **Model 15**\n",
        "# Testing tanh\n",
        "model_15=Sequential()\n",
        "\n",
        "model_15.add(Conv2D(32, (3, 3), padding=\"same\", activation=\"tanh\",input_shape=(28,28,1)))\n",
        "model_15.add(MaxPooling2D(pool_size=(2, 2), strides=(2, 2)))\n",
        "model_15.add(Conv2D(64, (3, 3), padding=\"same\", activation=\"tanh\"))\n",
        "model_15.add(MaxPooling2D(pool_size=(2, 2), strides=(2, 2)))\n",
        "model_15.add(Flatten())\n",
        "model_15.add(Dense(1000, activation=\"tanh\"))\n",
        "model_15.add(Dense(10,activation=\"softmax\"))\n",
        "\n",
        "#to show the network architecture\n",
        "model_15.summary()\n"
      ]
    },
    {
      "cell_type": "code",
      "execution_count": null,
      "metadata": {
        "id": "4Mi_HQDTWyZS"
      },
      "outputs": [],
      "source": [
        "model_15.compile(optimizer=tf.keras.optimizers.SGD(learning_rate=0.001),loss='categorical_crossentropy',metrics=['accuracy'])"
      ]
    },
    {
      "cell_type": "code",
      "execution_count": null,
      "metadata": {
        "id": "eeSmaxtHW8d2"
      },
      "outputs": [],
      "source": [
        "model_15.fit(x_train,y_train,batch_size=265,epochs= 12, shuffle = True)"
      ]
    },
    {
      "cell_type": "markdown",
      "metadata": {
        "id": "UaNkEUpZXP0M"
      },
      "source": [
        "Uisng tanh as activation function results 0.9223 accuracy after 12 epochs of training, so it's better than segmoid, But still worse than Relu"
      ]
    },
    {
      "cell_type": "markdown",
      "metadata": {
        "id": "tixHHACeXPwM"
      },
      "source": [
        "# Summary"
      ]
    },
    {
      "cell_type": "code",
      "execution_count": null,
      "metadata": {
        "id": "0a-qZtxvY2t9"
      },
      "outputs": [],
      "source": [
        "import pandas as pd\n",
        "functions_results = {'Relu' : pd.Series(data = [12, 256, 0.9821], index = ['Num of Epochs', 'Batch Size', 'Accuracy']),\n",
        "         'Segmoid' : pd.Series(data = [37, 256, 0.5557], index = ['Num of Epochs', 'Batch Size', 'Accuracy']),\n",
        "         'Tanh': pd.Series(data = [12, 256, 0.9223], index = ['Num of Epochs', 'Batch Size', 'Accuracy'])}\n",
        "functions_results_comparison = pd.DataFrame(functions_results)\n",
        "\n",
        "# We display the DataFrame\n",
        "functions_results_comparison\n",
        "\n"
      ]
    },
    {
      "cell_type": "markdown",
      "metadata": {
        "id": "6wSMW-wMaiJw"
      },
      "source": [
        "Since Rleu results the best results in terms of accuracy, It will be used as the activation function."
      ]
    },
    {
      "cell_type": "markdown",
      "metadata": {
        "id": "SglnhzpHb9EV"
      },
      "source": [
        "# **Using Different optimizers**"
      ]
    },
    {
      "cell_type": "markdown",
      "metadata": {
        "id": "shQ922HHb07T"
      },
      "source": [
        "# **Model 16**\n",
        "Results of using SGD \n"
      ]
    },
    {
      "cell_type": "code",
      "execution_count": null,
      "metadata": {
        "colab": {
          "base_uri": "https://localhost:8080/"
        },
        "id": "WOsBOoppY4Xy",
        "outputId": "278205ce-bd7f-4059-8f22-827f40811cfb"
      },
      "outputs": [
        {
          "name": "stdout",
          "output_type": "stream",
          "text": [
            "Epoch 1/12\n",
            "227/227 [==============================] - 14s 18ms/step - loss: 1.5795 - accuracy: 0.8210\n",
            "Epoch 2/12\n",
            "227/227 [==============================] - 4s 17ms/step - loss: 0.1986 - accuracy: 0.9391\n",
            "Epoch 3/12\n",
            "227/227 [==============================] - 4s 17ms/step - loss: 0.1452 - accuracy: 0.9561\n",
            "Epoch 4/12\n",
            "227/227 [==============================] - 4s 18ms/step - loss: 0.1181 - accuracy: 0.9650\n",
            "Epoch 5/12\n",
            "227/227 [==============================] - 4s 17ms/step - loss: 0.0999 - accuracy: 0.9703\n",
            "Epoch 6/12\n",
            "227/227 [==============================] - 4s 18ms/step - loss: 0.0883 - accuracy: 0.9735\n",
            "Epoch 7/12\n",
            "227/227 [==============================] - 4s 17ms/step - loss: 0.0787 - accuracy: 0.9770\n",
            "Epoch 8/12\n",
            "227/227 [==============================] - 4s 17ms/step - loss: 0.0715 - accuracy: 0.9788\n",
            "Epoch 9/12\n",
            "227/227 [==============================] - 4s 17ms/step - loss: 0.0657 - accuracy: 0.9805\n",
            "Epoch 10/12\n",
            "227/227 [==============================] - 4s 17ms/step - loss: 0.0606 - accuracy: 0.9820\n",
            "Epoch 11/12\n",
            "227/227 [==============================] - 4s 17ms/step - loss: 0.0563 - accuracy: 0.9834\n",
            "Epoch 12/12\n",
            "227/227 [==============================] - 4s 17ms/step - loss: 0.0529 - accuracy: 0.9847\n"
          ]
        },
        {
          "data": {
            "text/plain": [
              "<keras.callbacks.History at 0x7fdda05e3850>"
            ]
          },
          "execution_count": 3,
          "metadata": {},
          "output_type": "execute_result"
        }
      ],
      "source": [
        "# SGD Optimizor\n",
        "model_16=Sequential()\n",
        "\n",
        "model_16.add(Conv2D(32, (3, 3), padding=\"same\", activation=\"relu\",input_shape=(28,28,1)))\n",
        "model_16.add(MaxPooling2D(pool_size=(2, 2), strides=(2, 2)))\n",
        "model_16.add(Conv2D(64, (3, 3), padding=\"same\", activation=\"relu\"))\n",
        "model_16.add(MaxPooling2D(pool_size=(2, 2), strides=(2, 2)))\n",
        "model_16.add(Flatten())\n",
        "model_16.add(Dense(1000, activation=\"relu\"))\n",
        "model_16.add(Dense(10,activation=\"softmax\"))\n",
        "model_16.compile(optimizer=tf.keras.optimizers.SGD(learning_rate=0.001),loss='categorical_crossentropy',metrics=['accuracy'])\n",
        "model_16.fit(x_train,y_train,batch_size=265,epochs= 12, shuffle = True)\n"
      ]
    },
    {
      "cell_type": "markdown",
      "metadata": {
        "id": "yvhf2E4kdg1U"
      },
      "source": [
        "# **Model 17**\n",
        "Using Adadelta optimizor"
      ]
    },
    {
      "cell_type": "code",
      "execution_count": null,
      "metadata": {
        "colab": {
          "base_uri": "https://localhost:8080/"
        },
        "id": "fnJ6eCyddwin",
        "outputId": "f9469009-4db9-4bbf-fa84-eff9149a1132"
      },
      "outputs": [
        {
          "name": "stdout",
          "output_type": "stream",
          "text": [
            "Epoch 1/12\n",
            "227/227 [==============================] - 5s 18ms/step - loss: 10.9347 - accuracy: 0.2991\n",
            "Epoch 2/12\n",
            "227/227 [==============================] - 4s 18ms/step - loss: 2.9278 - accuracy: 0.6134\n",
            "Epoch 3/12\n",
            "227/227 [==============================] - 4s 18ms/step - loss: 1.6635 - accuracy: 0.7494\n",
            "Epoch 4/12\n",
            "227/227 [==============================] - 4s 18ms/step - loss: 1.1657 - accuracy: 0.8127\n",
            "Epoch 5/12\n",
            "227/227 [==============================] - 4s 18ms/step - loss: 0.9054 - accuracy: 0.8495\n",
            "Epoch 6/12\n",
            "227/227 [==============================] - 4s 18ms/step - loss: 0.7484 - accuracy: 0.8725\n",
            "Epoch 7/12\n",
            "227/227 [==============================] - 4s 18ms/step - loss: 0.6416 - accuracy: 0.8881\n",
            "Epoch 8/12\n",
            "227/227 [==============================] - 4s 18ms/step - loss: 0.5640 - accuracy: 0.8991\n",
            "Epoch 9/12\n",
            "227/227 [==============================] - 4s 18ms/step - loss: 0.5038 - accuracy: 0.9078\n",
            "Epoch 10/12\n",
            "227/227 [==============================] - 4s 18ms/step - loss: 0.4557 - accuracy: 0.9146\n",
            "Epoch 11/12\n",
            "227/227 [==============================] - 4s 18ms/step - loss: 0.4170 - accuracy: 0.9209\n",
            "Epoch 12/12\n",
            "227/227 [==============================] - 4s 18ms/step - loss: 0.3838 - accuracy: 0.9260\n"
          ]
        },
        {
          "data": {
            "text/plain": [
              "<keras.callbacks.History at 0x7fdda03077d0>"
            ]
          },
          "execution_count": 4,
          "metadata": {},
          "output_type": "execute_result"
        }
      ],
      "source": [
        "# Adadelta Optimizor\n",
        "model_17=Sequential()\n",
        "\n",
        "model_17.add(Conv2D(32, (3, 3), padding=\"same\", activation=\"relu\",input_shape=(28,28,1)))\n",
        "model_17.add(MaxPooling2D(pool_size=(2, 2), strides=(2, 2)))\n",
        "model_17.add(Conv2D(64, (3, 3), padding=\"same\", activation=\"relu\"))\n",
        "model_17.add(MaxPooling2D(pool_size=(2, 2), strides=(2, 2)))\n",
        "model_17.add(Flatten())\n",
        "model_17.add(Dense(1000, activation=\"relu\"))\n",
        "model_17.add(Dense(10,activation=\"softmax\"))\n",
        "model_17.compile(optimizer=tf.keras.optimizers.Adadelta(learning_rate=0.001),loss='categorical_crossentropy',metrics=['accuracy'])\n",
        "model_17.fit(x_train,y_train,batch_size=265,epochs= 12, shuffle = True)"
      ]
    },
    {
      "cell_type": "markdown",
      "metadata": {
        "id": "H6HqaX6iv7kV"
      },
      "source": [
        "# **Model 18**\n",
        "Using Adam optimizer "
      ]
    },
    {
      "cell_type": "code",
      "execution_count": null,
      "metadata": {
        "colab": {
          "base_uri": "https://localhost:8080/"
        },
        "id": "4WrFX989vnc0",
        "outputId": "9b3b1007-266c-41dd-de8f-7e62923a7dd2"
      },
      "outputs": [
        {
          "name": "stdout",
          "output_type": "stream",
          "text": [
            "Epoch 1/12\n",
            "227/227 [==============================] - 5s 18ms/step - loss: 3.0275 - accuracy: 0.8791\n",
            "Epoch 2/12\n",
            "227/227 [==============================] - 4s 17ms/step - loss: 0.0660 - accuracy: 0.9789\n",
            "Epoch 3/12\n",
            "227/227 [==============================] - 4s 17ms/step - loss: 0.0351 - accuracy: 0.9888\n",
            "Epoch 4/12\n",
            "227/227 [==============================] - 4s 17ms/step - loss: 0.0209 - accuracy: 0.9933\n",
            "Epoch 5/12\n",
            "227/227 [==============================] - 4s 17ms/step - loss: 0.0139 - accuracy: 0.9955\n",
            "Epoch 6/12\n",
            "227/227 [==============================] - 4s 18ms/step - loss: 0.0116 - accuracy: 0.9959\n",
            "Epoch 7/12\n",
            "227/227 [==============================] - 4s 17ms/step - loss: 0.0117 - accuracy: 0.9960\n",
            "Epoch 8/12\n",
            "227/227 [==============================] - 4s 17ms/step - loss: 0.0061 - accuracy: 0.9979\n",
            "Epoch 9/12\n",
            "227/227 [==============================] - 4s 17ms/step - loss: 0.0069 - accuracy: 0.9974\n",
            "Epoch 10/12\n",
            "227/227 [==============================] - 4s 17ms/step - loss: 0.0096 - accuracy: 0.9965\n",
            "Epoch 11/12\n",
            "227/227 [==============================] - 4s 17ms/step - loss: 0.0126 - accuracy: 0.9957\n",
            "Epoch 12/12\n",
            "227/227 [==============================] - 4s 17ms/step - loss: 0.0110 - accuracy: 0.9963\n"
          ]
        },
        {
          "data": {
            "text/plain": [
              "<keras.callbacks.History at 0x7fdda01eaa10>"
            ]
          },
          "execution_count": 5,
          "metadata": {},
          "output_type": "execute_result"
        }
      ],
      "source": [
        "# Adam Optimizor\n",
        "model_18=Sequential()\n",
        "\n",
        "model_18.add(Conv2D(32, (3, 3), padding=\"same\", activation=\"relu\",input_shape=(28,28,1)))\n",
        "model_18.add(MaxPooling2D(pool_size=(2, 2), strides=(2, 2)))\n",
        "model_18.add(Conv2D(64, (3, 3), padding=\"same\", activation=\"relu\"))\n",
        "model_18.add(MaxPooling2D(pool_size=(2, 2), strides=(2, 2)))\n",
        "model_18.add(Flatten())\n",
        "model_18.add(Dense(1000, activation=\"relu\"))\n",
        "model_18.add(Dense(10,activation=\"softmax\"))\n",
        "model_18.compile(optimizer=tf.keras.optimizers.Adam(learning_rate=0.001),loss='categorical_crossentropy',metrics=['accuracy'])\n",
        "model_18.fit(x_train,y_train,batch_size=265,epochs= 12, shuffle = True)\n"
      ]
    },
    {
      "cell_type": "markdown",
      "metadata": {
        "id": "TZdYJqtSxr8n"
      },
      "source": [
        "# **Model 19**\n",
        "Using Adamax optimizer"
      ]
    },
    {
      "cell_type": "code",
      "execution_count": null,
      "metadata": {
        "colab": {
          "base_uri": "https://localhost:8080/"
        },
        "id": "WVk94II4w6AY",
        "outputId": "2d4b5b8d-4692-4bf8-93eb-9697f2dbdaa1"
      },
      "outputs": [
        {
          "name": "stdout",
          "output_type": "stream",
          "text": [
            "Epoch 1/12\n",
            "227/227 [==============================] - 13s 9ms/step - loss: 3.6773 - accuracy: 0.8749\n",
            "Epoch 2/12\n",
            "227/227 [==============================] - 2s 9ms/step - loss: 0.0704 - accuracy: 0.9782\n",
            "Epoch 3/12\n",
            "227/227 [==============================] - 2s 9ms/step - loss: 0.0415 - accuracy: 0.9873\n",
            "Epoch 4/12\n",
            "227/227 [==============================] - 2s 9ms/step - loss: 0.0271 - accuracy: 0.9921\n",
            "Epoch 5/12\n",
            "227/227 [==============================] - 2s 9ms/step - loss: 0.0185 - accuracy: 0.9950\n",
            "Epoch 6/12\n",
            "227/227 [==============================] - 2s 9ms/step - loss: 0.0119 - accuracy: 0.9970\n",
            "Epoch 7/12\n",
            "227/227 [==============================] - 2s 9ms/step - loss: 0.0083 - accuracy: 0.9981\n",
            "Epoch 8/12\n",
            "227/227 [==============================] - 2s 9ms/step - loss: 0.0053 - accuracy: 0.9991\n",
            "Epoch 9/12\n",
            "227/227 [==============================] - 2s 9ms/step - loss: 0.0030 - accuracy: 0.9997\n",
            "Epoch 10/12\n",
            "227/227 [==============================] - 2s 9ms/step - loss: 0.0022 - accuracy: 0.9999\n",
            "Epoch 11/12\n",
            "227/227 [==============================] - 2s 9ms/step - loss: 0.0013 - accuracy: 0.9999\n",
            "Epoch 12/12\n",
            "227/227 [==============================] - 2s 9ms/step - loss: 0.0013 - accuracy: 0.9999\n",
            "313/313 - 1s - loss: 0.0454 - accuracy: 0.9874 - 913ms/epoch - 3ms/step\n"
          ]
        },
        {
          "data": {
            "text/plain": [
              "[0.045388948172330856, 0.9873999953269958]"
            ]
          },
          "execution_count": 4,
          "metadata": {},
          "output_type": "execute_result"
        }
      ],
      "source": [
        "# Adamax Optimizor\n",
        "model_19=Sequential()\n",
        "\n",
        "model_19.add(Conv2D(32, (3, 3), padding=\"same\", activation=\"relu\",input_shape=(28,28,1)))\n",
        "model_19.add(MaxPooling2D(pool_size=(2, 2), strides=(2, 2)))\n",
        "model_19.add(Conv2D(64, (3, 3), padding=\"same\", activation=\"relu\"))\n",
        "model_19.add(MaxPooling2D(pool_size=(2, 2), strides=(2, 2)))\n",
        "model_19.add(Flatten())\n",
        "model_19.add(Dense(1000, activation=\"relu\"))\n",
        "model_19.add(Dense(10,activation=\"softmax\"))\n",
        "model_19.compile(optimizer=tf.keras.optimizers.Adamax(learning_rate=0.001),loss='categorical_crossentropy',metrics=['accuracy'])\n",
        "model_19.fit(x_train,y_train,batch_size=265,epochs= 12, shuffle = True )\n",
        "model_19.evaluate(x_test, y_test,verbose=2)\n"
      ]
    },
    {
      "cell_type": "markdown",
      "metadata": {
        "id": "PqSp4ZsUzl5_"
      },
      "source": [
        "# Summary\n",
        "Comparing between different results in terms of accuracy."
      ]
    },
    {
      "cell_type": "code",
      "execution_count": null,
      "metadata": {
        "colab": {
          "base_uri": "https://localhost:8080/",
          "height": 143
        },
        "id": "0Pi6MlTsyxyq",
        "outputId": "d181e1ad-3bb9-47ef-ef0d-bc122fd6a4b2"
      },
      "outputs": [
        {
          "data": {
            "text/html": [
              "\n",
              "  <div id=\"df-de69518d-f372-49a4-8126-fb649144028b\">\n",
              "    <div class=\"colab-df-container\">\n",
              "      <div>\n",
              "<style scoped>\n",
              "    .dataframe tbody tr th:only-of-type {\n",
              "        vertical-align: middle;\n",
              "    }\n",
              "\n",
              "    .dataframe tbody tr th {\n",
              "        vertical-align: top;\n",
              "    }\n",
              "\n",
              "    .dataframe thead th {\n",
              "        text-align: right;\n",
              "    }\n",
              "</style>\n",
              "<table border=\"1\" class=\"dataframe\">\n",
              "  <thead>\n",
              "    <tr style=\"text-align: right;\">\n",
              "      <th></th>\n",
              "      <th>SGD</th>\n",
              "      <th>Adadelta</th>\n",
              "      <th>Adam</th>\n",
              "      <th>Adamax</th>\n",
              "    </tr>\n",
              "  </thead>\n",
              "  <tbody>\n",
              "    <tr>\n",
              "      <th>Num of Epochs</th>\n",
              "      <td>12.0000</td>\n",
              "      <td>37.0000</td>\n",
              "      <td>12.0000</td>\n",
              "      <td>12.0</td>\n",
              "    </tr>\n",
              "    <tr>\n",
              "      <th>Batch Size</th>\n",
              "      <td>256.0000</td>\n",
              "      <td>256.0000</td>\n",
              "      <td>256.0000</td>\n",
              "      <td>256.0</td>\n",
              "    </tr>\n",
              "    <tr>\n",
              "      <th>Accuracy</th>\n",
              "      <td>0.9856</td>\n",
              "      <td>0.9281</td>\n",
              "      <td>0.9973</td>\n",
              "      <td>1.0</td>\n",
              "    </tr>\n",
              "  </tbody>\n",
              "</table>\n",
              "</div>\n",
              "      <button class=\"colab-df-convert\" onclick=\"convertToInteractive('df-de69518d-f372-49a4-8126-fb649144028b')\"\n",
              "              title=\"Convert this dataframe to an interactive table.\"\n",
              "              style=\"display:none;\">\n",
              "        \n",
              "  <svg xmlns=\"http://www.w3.org/2000/svg\" height=\"24px\"viewBox=\"0 0 24 24\"\n",
              "       width=\"24px\">\n",
              "    <path d=\"M0 0h24v24H0V0z\" fill=\"none\"/>\n",
              "    <path d=\"M18.56 5.44l.94 2.06.94-2.06 2.06-.94-2.06-.94-.94-2.06-.94 2.06-2.06.94zm-11 1L8.5 8.5l.94-2.06 2.06-.94-2.06-.94L8.5 2.5l-.94 2.06-2.06.94zm10 10l.94 2.06.94-2.06 2.06-.94-2.06-.94-.94-2.06-.94 2.06-2.06.94z\"/><path d=\"M17.41 7.96l-1.37-1.37c-.4-.4-.92-.59-1.43-.59-.52 0-1.04.2-1.43.59L10.3 9.45l-7.72 7.72c-.78.78-.78 2.05 0 2.83L4 21.41c.39.39.9.59 1.41.59.51 0 1.02-.2 1.41-.59l7.78-7.78 2.81-2.81c.8-.78.8-2.07 0-2.86zM5.41 20L4 18.59l7.72-7.72 1.47 1.35L5.41 20z\"/>\n",
              "  </svg>\n",
              "      </button>\n",
              "      \n",
              "  <style>\n",
              "    .colab-df-container {\n",
              "      display:flex;\n",
              "      flex-wrap:wrap;\n",
              "      gap: 12px;\n",
              "    }\n",
              "\n",
              "    .colab-df-convert {\n",
              "      background-color: #E8F0FE;\n",
              "      border: none;\n",
              "      border-radius: 50%;\n",
              "      cursor: pointer;\n",
              "      display: none;\n",
              "      fill: #1967D2;\n",
              "      height: 32px;\n",
              "      padding: 0 0 0 0;\n",
              "      width: 32px;\n",
              "    }\n",
              "\n",
              "    .colab-df-convert:hover {\n",
              "      background-color: #E2EBFA;\n",
              "      box-shadow: 0px 1px 2px rgba(60, 64, 67, 0.3), 0px 1px 3px 1px rgba(60, 64, 67, 0.15);\n",
              "      fill: #174EA6;\n",
              "    }\n",
              "\n",
              "    [theme=dark] .colab-df-convert {\n",
              "      background-color: #3B4455;\n",
              "      fill: #D2E3FC;\n",
              "    }\n",
              "\n",
              "    [theme=dark] .colab-df-convert:hover {\n",
              "      background-color: #434B5C;\n",
              "      box-shadow: 0px 1px 3px 1px rgba(0, 0, 0, 0.15);\n",
              "      filter: drop-shadow(0px 1px 2px rgba(0, 0, 0, 0.3));\n",
              "      fill: #FFFFFF;\n",
              "    }\n",
              "  </style>\n",
              "\n",
              "      <script>\n",
              "        const buttonEl =\n",
              "          document.querySelector('#df-de69518d-f372-49a4-8126-fb649144028b button.colab-df-convert');\n",
              "        buttonEl.style.display =\n",
              "          google.colab.kernel.accessAllowed ? 'block' : 'none';\n",
              "\n",
              "        async function convertToInteractive(key) {\n",
              "          const element = document.querySelector('#df-de69518d-f372-49a4-8126-fb649144028b');\n",
              "          const dataTable =\n",
              "            await google.colab.kernel.invokeFunction('convertToInteractive',\n",
              "                                                     [key], {});\n",
              "          if (!dataTable) return;\n",
              "\n",
              "          const docLinkHtml = 'Like what you see? Visit the ' +\n",
              "            '<a target=\"_blank\" href=https://colab.research.google.com/notebooks/data_table.ipynb>data table notebook</a>'\n",
              "            + ' to learn more about interactive tables.';\n",
              "          element.innerHTML = '';\n",
              "          dataTable['output_type'] = 'display_data';\n",
              "          await google.colab.output.renderOutput(dataTable, element);\n",
              "          const docLink = document.createElement('div');\n",
              "          docLink.innerHTML = docLinkHtml;\n",
              "          element.appendChild(docLink);\n",
              "        }\n",
              "      </script>\n",
              "    </div>\n",
              "  </div>\n",
              "  "
            ],
            "text/plain": [
              "                    SGD  Adadelta      Adam  Adamax\n",
              "Num of Epochs   12.0000   37.0000   12.0000    12.0\n",
              "Batch Size     256.0000  256.0000  256.0000   256.0\n",
              "Accuracy         0.9856    0.9281    0.9973     1.0"
            ]
          },
          "execution_count": 7,
          "metadata": {},
          "output_type": "execute_result"
        }
      ],
      "source": [
        "import pandas as pd\n",
        "optimizers_results = {'SGD' : pd.Series(data = [12, 256,0.9856], index = ['Num of Epochs', 'Batch Size', 'Accuracy']),\n",
        "         'Adadelta' : pd.Series(data = [37, 256, 0.9281], index = ['Num of Epochs', 'Batch Size', 'Accuracy']),\n",
        "         'Adam': pd.Series(data = [12, 256, 0.9973], index = ['Num of Epochs', 'Batch Size', 'Accuracy']),\n",
        "         'Adamax': pd.Series(data = [12, 256, 1.0000], index = ['Num of Epochs', 'Batch Size', 'Accuracy'])}\n",
        "optimizers_results_comparison = pd.DataFrame(optimizers_results)\n",
        "\n",
        "optimizers_results_comparison"
      ]
    },
    {
      "cell_type": "markdown",
      "metadata": {
        "id": "2fgYssEs1Y8k"
      },
      "source": [
        "In terms of of accuracy, Adamax optimizer results in the best results."
      ]
    },
    {
      "cell_type": "markdown",
      "metadata": {
        "id": "4Ya3tIWc2RJl"
      },
      "source": [
        "# **Putting Different Dropout Layers**"
      ]
    },
    {
      "cell_type": "markdown",
      "metadata": {
        "id": "Q7Nr2fyD8ffk"
      },
      "source": [
        "# **Model 20**\n",
        "Adding Dropout layer after the first conv layer,\n",
        "with dropout rate = 0.5"
      ]
    },
    {
      "cell_type": "code",
      "execution_count": null,
      "metadata": {
        "id": "80jmBKU68ViX"
      },
      "outputs": [],
      "source": [
        "model_20=Sequential()\n",
        "tf.random.set_seed(0)\n",
        "\n",
        "model_20.add(Conv2D(32, (3, 3), padding=\"same\", activation=\"relu\",input_shape=(28,28,1)))\n",
        "model_20.add(MaxPooling2D(pool_size=(2, 2), strides=(2, 2)))\n",
        "model_20.add(keras.layers.Dropout(0.5))\n",
        "model_20.add(Conv2D(64, (3, 3), padding=\"same\", activation=\"relu\"))\n",
        "model_20.add(MaxPooling2D(pool_size=(2, 2), strides=(2, 2)))\n",
        "model_20.add(Flatten())\n",
        "model_20.add(Dense(1000, activation=\"relu\"))\n",
        "model_20.add(Dense(10,activation=\"softmax\"))\n",
        "model_20.compile(optimizer=tf.keras.optimizers.Adamax(learning_rate=0.001),loss='categorical_crossentropy',metrics=['accuracy'])\n",
        "tf.keras.layers.Dropout(.2, input_shape=(2,))\n",
        "\n",
        "model_20.fit(x_train,y_train,batch_size=265,epochs= 20, shuffle = True)\n"
      ]
    },
    {
      "cell_type": "markdown",
      "metadata": {
        "id": "2PlxnpESKtUO"
      },
      "source": [
        "# **Model 21**\n",
        "Adding dropout layer after the first conv layer with different dropout rate= 0.8"
      ]
    },
    {
      "cell_type": "code",
      "execution_count": null,
      "metadata": {
        "id": "sHptgrWwKZcu"
      },
      "outputs": [],
      "source": [
        "model_20=Sequential()\n",
        "tf.random.set_seed(0)\n",
        "\n",
        "model_20.add(Conv2D(32, (3, 3), padding=\"same\", activation=\"relu\",input_shape=(28,28,1)))\n",
        "model_20.add(MaxPooling2D(pool_size=(2, 2), strides=(2, 2)))\n",
        "model_20.add(keras.layers.Dropout(0.8))\n",
        "model_20.add(Conv2D(64, (3, 3), padding=\"same\", activation=\"relu\"))\n",
        "model_20.add(MaxPooling2D(pool_size=(2, 2), strides=(2, 2)))\n",
        "model_20.add(Flatten())\n",
        "model_20.add(Dense(1000, activation=\"relu\"))\n",
        "model_20.add(Dense(10,activation=\"softmax\"))\n",
        "model_20.compile(optimizer=tf.keras.optimizers.Adamax(learning_rate=0.001),loss='categorical_crossentropy',metrics=['accuracy'])\n",
        "tf.keras.layers.Dropout(.2, input_shape=(2,))\n",
        "\n",
        "model_20.fit(x_train,y_train,batch_size=265,epochs= 20, shuffle = True)\n"
      ]
    },
    {
      "cell_type": "markdown",
      "metadata": {
        "id": "NZoE0FWALqMW"
      },
      "source": [
        "# **Model 22**\n",
        "Adding drop out layer after the secoend conv layer= 0.5"
      ]
    },
    {
      "cell_type": "code",
      "execution_count": null,
      "metadata": {
        "id": "IQ29uazyKY9p"
      },
      "outputs": [],
      "source": [
        "model_20=Sequential()\n",
        "tf.random.set_seed(0)\n",
        "\n",
        "model_20.add(Conv2D(32, (3, 3), padding=\"same\", activation=\"relu\",input_shape=(28,28,1)))\n",
        "model_20.add(MaxPooling2D(pool_size=(2, 2), strides=(2, 2)))\n",
        "model_20.add(Conv2D(64, (3, 3), padding=\"same\", activation=\"relu\"))\n",
        "model_20.add(MaxPooling2D(pool_size=(2, 2), strides=(2, 2)))\n",
        "model_20.add(keras.layers.Dropout(0.5))\n",
        "model_20.add(Flatten())\n",
        "model_20.add(Dense(1000, activation=\"relu\"))\n",
        "model_20.add(Dense(10,activation=\"softmax\"))\n",
        "model_20.compile(optimizer=tf.keras.optimizers.Adamax(learning_rate=0.001),loss='categorical_crossentropy',metrics=['accuracy'])\n",
        "\n",
        "model_20.fit(x_train,y_train,batch_size=265,epochs= 20, shuffle = True)\n"
      ]
    },
    {
      "cell_type": "markdown",
      "metadata": {
        "id": "a20YiLopMUV-"
      },
      "source": [
        "# **Model 23**\n",
        "Adding dropout layer after the secoend conv layer with different dropout rate = 0.8"
      ]
    },
    {
      "cell_type": "code",
      "execution_count": null,
      "metadata": {
        "id": "Y_Jzy_ftMRbO"
      },
      "outputs": [],
      "source": [
        "model_20=Sequential()\n",
        "tf.random.set_seed(0)\n",
        "\n",
        "model_20.add(Conv2D(32, (3, 3), padding=\"same\", activation=\"relu\",input_shape=(28,28,1)))\n",
        "model_20.add(MaxPooling2D(pool_size=(2, 2), strides=(2, 2)))\n",
        "model_20.add(Conv2D(64, (3, 3), padding=\"same\", activation=\"relu\"))\n",
        "model_20.add(MaxPooling2D(pool_size=(2, 2), strides=(2, 2)))\n",
        "model_20.add(keras.layers.Dropout(0.8))\n",
        "model_20.add(Flatten())\n",
        "model_20.add(Dense(1000, activation=\"relu\"))\n",
        "model_20.add(Dense(10,activation=\"softmax\"))\n",
        "model_20.compile(optimizer=tf.keras.optimizers.Adamax(learning_rate=0.001),loss='categorical_crossentropy',metrics=['accuracy'])\n",
        "\n",
        "model_20.fit(x_train,y_train,batch_size=265,epochs= 20, shuffle = True)\n"
      ]
    },
    {
      "cell_type": "markdown",
      "metadata": {
        "id": "MlK8FYpDN201"
      },
      "source": [
        "# **Model 24**\n",
        "Adding dropoutlayer after the conv layers with drop out rate=0.5"
      ]
    },
    {
      "cell_type": "code",
      "execution_count": null,
      "metadata": {
        "id": "J8cCHvFHMrw1"
      },
      "outputs": [],
      "source": [
        "model_20=Sequential()\n",
        "tf.random.set_seed(0)\n",
        "\n",
        "model_20.add(Conv2D(32, (3, 3), padding=\"same\", activation=\"relu\",input_shape=(28,28,1)))\n",
        "model_20.add(MaxPooling2D(pool_size=(2, 2), strides=(2, 2)))\n",
        "model_20.add(Conv2D(64, (3, 3), padding=\"same\", activation=\"relu\"))\n",
        "model_20.add(MaxPooling2D(pool_size=(2, 2), strides=(2, 2)))\n",
        "model_20.add(Flatten())\n",
        "model_20.add(keras.layers.Dropout(0.8))\n",
        "model_20.add(Dense(1000, activation=\"relu\"))\n",
        "model_20.add(Dense(10,activation=\"softmax\"))\n",
        "model_20.compile(optimizer=tf.keras.optimizers.Adamax(learning_rate=0.001),loss='categorical_crossentropy',metrics=['accuracy'])\n",
        "\n",
        "model_20.fit(x_train,y_train,batch_size=265,epochs= 20, shuffle = True)\n"
      ]
    },
    {
      "cell_type": "markdown",
      "metadata": {
        "id": "xUcXmnxPOwPu"
      },
      "source": [
        "# **Summary**\n",
        "Using Dropout layers affects occuracy differently asper the position and the dropout rate.\n"
      ]
    },
    {
      "cell_type": "code",
      "execution_count": null,
      "metadata": {
        "id": "H-v_YIf2PVgK"
      },
      "outputs": [],
      "source": [
        "import pandas as pd\n",
        "dropout_results = {'After the first conv layer with 0.5' : pd.Series(data = [20, 256,0.9897,0.0306 ], index = ['Num of Epochs', 'Batch Size', 'Accuracy','Loss at last epoch' ]),\n",
        "          'After the first conv layer with 0.8' : pd.Series(data = [20, 256,0.9707,0.0882 ], index = ['Num of Epochs', 'Batch Size', 'Accuracy','Loss at last epoch' ]),\n",
        "         'After the secoend conv layer with 0.5' : pd.Series(data = [20, 256, 0.9929,0.0205 ], index = ['Num of Epochs', 'Batch Size', 'Accuracy','Loss at last epoch']),\n",
        "         'After the secoend conv layer with 0.8' : pd.Series(data = [20, 256, 0.9723,0.0874 ], index = ['Num of Epochs', 'Batch Size', 'Accuracy','Loss at last epoch']),\n",
        "         'After the 2 conv layers': pd.Series(data = [20, 256, 0.9715,0.0884], index = ['Num of Epochs', 'Batch Size', 'Accuracy','Loss at last epoch'])}\n",
        "dropout_results_comparison = pd.DataFrame(dropout_results)\n",
        "\n",
        "dropout_results_comparison"
      ]
    },
    {
      "cell_type": "markdown",
      "metadata": {
        "id": "O3P3CAI_T8bT"
      },
      "source": [
        "#**Conclusion**\n",
        "# 1- **Num of Epochs: Best results where in applying 12 epochs**\n",
        "# 2- **Learning Rate: Best results where in applying learning rate with 0.001**\n",
        "# 3- **Batch Size: Best results where in using batch size of 256**\n",
        "# 4- **Dropout layers: Best results where in applying the dropout layer after the secoend convolution with dropout rate 0.5**\n",
        "# 6- **Activation Function: Best reuslts where in using Relu activation function** \n",
        "# 7- **Optimizer: Best reuslts where in applying Adamax optimizer.**"
      ]
    }
  ],
  "metadata": {
    "accelerator": "GPU",
    "colab": {
      "collapsed_sections": [
        "bu26jXBjce3t",
        "SglnhzpHb9EV",
        "4Ya3tIWc2RJl"
      ],
      "provenance": [],
      "toc_visible": true
    },
    "kernelspec": {
      "display_name": "Python 3",
      "name": "python3"
    },
    "language_info": {
      "name": "python"
    }
  },
  "nbformat": 4,
  "nbformat_minor": 0
}
